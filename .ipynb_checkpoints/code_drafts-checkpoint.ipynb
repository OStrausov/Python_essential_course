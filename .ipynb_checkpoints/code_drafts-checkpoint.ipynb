{
 "cells": [
  {
   "cell_type": "markdown",
   "id": "332ee152",
   "metadata": {},
   "source": [
    "# Document title"
   ]
  },
  {
   "cell_type": "code",
   "execution_count": 1,
   "id": "6b2dd289",
   "metadata": {},
   "outputs": [
    {
     "name": "stdout",
     "output_type": "stream",
     "text": [
      "Test\n"
     ]
    }
   ],
   "source": [
    "print('Test');"
   ]
  },
  {
   "cell_type": "code",
   "execution_count": 2,
   "id": "7e4dc28a",
   "metadata": {},
   "outputs": [],
   "source": [
    "x=5"
   ]
  },
  {
   "cell_type": "code",
   "execution_count": 3,
   "id": "faee025a",
   "metadata": {},
   "outputs": [
    {
     "name": "stdout",
     "output_type": "stream",
     "text": [
      "5\n"
     ]
    }
   ],
   "source": [
    "print(x);"
   ]
  },
  {
   "cell_type": "code",
   "execution_count": 10,
   "id": "1826fa27",
   "metadata": {},
   "outputs": [],
   "source": [
    "name='Ryan'"
   ]
  },
  {
   "cell_type": "code",
   "execution_count": 11,
   "id": "cddbe8e3",
   "metadata": {},
   "outputs": [
    {
     "data": {
      "text/plain": [
       "str"
      ]
     },
     "execution_count": 11,
     "metadata": {},
     "output_type": "execute_result"
    }
   ],
   "source": [
    "type(name)"
   ]
  },
  {
   "cell_type": "code",
   "execution_count": 12,
   "id": "9e46d415",
   "metadata": {},
   "outputs": [
    {
     "data": {
      "text/plain": [
       "False"
      ]
     },
     "execution_count": 12,
     "metadata": {},
     "output_type": "execute_result"
    }
   ],
   "source": [
    "False or False"
   ]
  },
  {
   "cell_type": "code",
   "execution_count": 15,
   "id": "eda3a9b2",
   "metadata": {},
   "outputs": [
    {
     "name": "stdout",
     "output_type": "stream",
     "text": [
      "Ok\n"
     ]
    }
   ],
   "source": [
    "a = True\n",
    "if a==True: print('Ok')"
   ]
  },
  {
   "cell_type": "code",
   "execution_count": 19,
   "id": "59085ca9",
   "metadata": {},
   "outputs": [],
   "source": [
    "class Dog:\n",
    "    def __init__(self, name):\n",
    "        self.name = name\n",
    "        self.legs = 4\n",
    "    \n",
    "    def speak(self):\n",
    "        print(self.name + ' says: Bark!')"
   ]
  },
  {
   "cell_type": "code",
   "execution_count": 21,
   "id": "7d904f0e",
   "metadata": {},
   "outputs": [
    {
     "name": "stdout",
     "output_type": "stream",
     "text": [
      "Knight says: Bark!\n"
     ]
    }
   ],
   "source": [
    "my_dog = Dog('Knight')\n",
    "my_dog.speak()"
   ]
  },
  {
   "cell_type": "code",
   "execution_count": 94,
   "id": "35f07270",
   "metadata": {},
   "outputs": [],
   "source": [
    "def f_calc(num):\n",
    "    if num == 0:\n",
    "        return 1\n",
    "    i = num\n",
    "    while i > 1:\n",
    "        i = i - 1\n",
    "        num = num * i\n",
    "    return num"
   ]
  },
  {
   "cell_type": "code",
   "execution_count": 97,
   "id": "f12aeccc",
   "metadata": {},
   "outputs": [
    {
     "data": {
      "text/plain": [
       "1"
      ]
     },
     "execution_count": 97,
     "metadata": {},
     "output_type": "execute_result"
    }
   ],
   "source": [
    "f_calc(0)"
   ]
  },
  {
   "cell_type": "code",
   "execution_count": 98,
   "id": "d7372e4a",
   "metadata": {},
   "outputs": [],
   "source": [
    "def f_calc_rec(num):\n",
    "    if num == 0:\n",
    "        return 1\n",
    "    return num * f_calc_rec(num - 1)\n"
   ]
  },
  {
   "cell_type": "code",
   "execution_count": 99,
   "id": "73fab9cf",
   "metadata": {},
   "outputs": [
    {
     "data": {
      "text/plain": [
       "720"
      ]
     },
     "execution_count": 99,
     "metadata": {},
     "output_type": "execute_result"
    }
   ],
   "source": [
    "f_calc_rec(6)"
   ]
  },
  {
   "cell_type": "code",
   "execution_count": 105,
   "id": "30e922c7",
   "metadata": {},
   "outputs": [],
   "source": [
    "hexNumbers = {\n",
    "    '0': 0, '1': 1, '2': 2, '3': 3, '4': 4, '5': 5, '6': 6, '7': 7, '8': 8, '9': 9,\n",
    "    'A': 10, 'B': 11, 'C': 12, 'D': 13, 'E': 14, 'F': 15\n",
    "}"
   ]
  },
  {
   "cell_type": "code",
   "execution_count": 106,
   "id": "03e454d6",
   "metadata": {},
   "outputs": [],
   "source": [
    "# Another solution!\n",
    "\n",
    "def hexToDec(hexNum):\n",
    "    for char in hexNum:\n",
    "        if char not in hexNumbers:\n",
    "            return None\n",
    "    \n",
    "    exponent = 0\n",
    "    decimalValue = 0\n",
    "    for char in hexNum[::-1]:\n",
    "        decimalValue = decimalValue + hexNumbers[char] * (16**exponent)\n",
    "        exponent = exponent + 1\n",
    "    \n",
    "    return decimalValue"
   ]
  },
  {
   "cell_type": "code",
   "execution_count": 107,
   "id": "975b7967",
   "metadata": {},
   "outputs": [
    {
     "data": {
      "text/plain": [
       "960"
      ]
     },
     "execution_count": 107,
     "metadata": {},
     "output_type": "execute_result"
    }
   ],
   "source": [
    "hexToDec('3C0')"
   ]
  },
  {
   "cell_type": "code",
   "execution_count": 108,
   "id": "de64764a",
   "metadata": {},
   "outputs": [],
   "source": [
    "hexNum = '3C0'"
   ]
  },
  {
   "cell_type": "code",
   "execution_count": 109,
   "id": "2436e926",
   "metadata": {},
   "outputs": [
    {
     "data": {
      "text/plain": [
       "'0C3'"
      ]
     },
     "execution_count": 109,
     "metadata": {},
     "output_type": "execute_result"
    }
   ],
   "source": [
    "hexNum[::-1]"
   ]
  },
  {
   "cell_type": "code",
   "execution_count": null,
   "id": "75e26413",
   "metadata": {},
   "outputs": [],
   "source": []
  }
 ],
 "metadata": {
  "kernelspec": {
   "display_name": "Python 3 (ipykernel)",
   "language": "python",
   "name": "python3"
  },
  "language_info": {
   "codemirror_mode": {
    "name": "ipython",
    "version": 3
   },
   "file_extension": ".py",
   "mimetype": "text/x-python",
   "name": "python",
   "nbconvert_exporter": "python",
   "pygments_lexer": "ipython3",
   "version": "3.11.2"
  }
 },
 "nbformat": 4,
 "nbformat_minor": 5
}
